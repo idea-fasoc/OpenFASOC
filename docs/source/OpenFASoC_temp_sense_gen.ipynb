{
 "cells": [
  {
   "cell_type": "markdown",
   "metadata": {
    "id": "DMpl_39MFW6i"
   },
   "source": [
    "# OpenFASOC flow (temp-sense-gen)\n",
    "\n",
    "(WIP) This notebook installs all the required binaries (openroad, yosys, magic, netgen, sky130a-pdk) from litex-hub conda channel and python packages using the specified list in the requirements.txt file, for OpenFASOC (temp-sense generator) to run. \n"
   ]
  },
  {
   "cell_type": "markdown",
   "metadata": {
    "id": "y5RyFwojGF6w"
   },
   "source": [
    "This section sets the required environment variables for the conda to work properly."
   ]
  },
  {
   "cell_type": "code",
   "execution_count": null,
   "metadata": {
    "colab": {
     "base_uri": "https://localhost:8080/"
    },
    "id": "_U0n5R_tEKE-",
    "outputId": "2307bf0a-4372-488a-e115-b97ececf9fbf"
   },
   "outputs": [],
   "source": [
    "import os\n",
    "import pathlib\n",
    "import sys\n",
    "\n",
    "conda_prefix_path = pathlib.Path('conda')\n",
    "site_package_path = conda_prefix_path / 'lib/python3.7/site-packages'\n",
    "sys.path.append(str(site_package_path.resolve()))\n",
    "CONDA_PREFIX = str(conda_prefix_path.resolve())\n",
    "PATH = os.environ['PATH']\n",
    "%env PATH={CONDA_PREFIX}/bin:{PATH}"
   ]
  },
  {
   "cell_type": "markdown",
   "metadata": {
    "id": "sajfshLJGqCP"
   },
   "source": [
    "Setup and Build section - \n",
    "\n",
    "* installs and updates the miniconda3 binary\n",
    "\n",
    "* installs yosys, openroad, sky130a-pdk, magic and netgen\n",
    "\n",
    "* clones the OpenFASOC repo\n",
    "\n",
    "* installs all the mentioned python packages inside \"requirements.txt\" file \n",
    "\n",
    "* sets all the required paths to the PATH variable and runs the temp-sense-gen flow\n",
    "\n",
    "* Package \"time\" is installed which is required by the main script to run the installed binaries"
   ]
  },
  {
   "cell_type": "code",
   "execution_count": null,
   "metadata": {
    "colab": {
     "base_uri": "https://localhost:8080/",
     "height": 1000
    },
    "id": "Q5vDB-WsEOHh",
    "outputId": "c71a7b28-5d4b-4fce-96c6-6ab2084f4d5a"
   },
   "outputs": [],
   "source": [
    "!wget https://repo.anaconda.com/miniconda/Miniconda3-py37_4.12.0-Linux-x86_64.sh \\\n",
    "    && bash Miniconda3-py37_4.12.0-Linux-x86_64.sh -b -p bin/miniconda3 -u \\\n",
    "    && rm -f Miniconda3-py37_4.12.0-Linux-x86_64.sh\n",
    "%env PATH=/content/bin/miniconda3/bin:{PATH}\n",
    "!conda update -y conda\n",
    "!conda install -c litex-hub openroad -y\n",
    "!conda install -c litex-hub yosys open_pdks.sky130a magic netgen -y\n",
    "!git clone https://github.com/saicharan0112/OpenFASOC\n",
    "OPENFASOC=str(pathlib.Path('OpenFASOC').resolve())\n",
    "PATH=os.environ['PATH']\n",
    "%env PATH={PATH}:{OPENFASOC}:{OPENFASOC}/openfasoc/generators/temp-sense-gen/tools\n",
    "!pip3 install -r {OPENFASOC}/requirements.txt\n",
    "!apt-get install time -y"
   ]
  },
  {
   "cell_type": "markdown",
   "metadata": {
    "id": "HhIWBrdaHmCm"
   },
   "source": [
    "Setting the PDK_ROOT variable"
   ]
  },
  {
   "cell_type": "code",
   "execution_count": null,
   "metadata": {
    "colab": {
     "base_uri": "https://localhost:8080/"
    },
    "id": "Da6tYLKvFGX6",
    "outputId": "f1ad698f-e5fc-4027-f40f-61d353ce6521"
   },
   "outputs": [],
   "source": [
    "%env PDK_ROOT=bin/miniconda3/share/pdk/"
   ]
  },
  {
   "cell_type": "markdown",
   "metadata": {
    "id": "NT1FVCpPHpAb"
   },
   "source": [
    "Running the main script \"temp-sense-gen.py\""
   ]
  },
  {
   "cell_type": "code",
   "execution_count": null,
   "metadata": {
    "colab": {
     "base_uri": "https://localhost:8080/"
    },
    "id": "BEjjvSaMFJ4i",
    "outputId": "fa4ce6a5-2e30-410d-d58d-1d70b363c009"
   },
   "outputs": [],
   "source": [
    "!{OPENFASOC}/openfasoc/generators/temp-sense-gen/tools/temp-sense-gen.py --specfile {OPENFASOC}/openfasoc/generators/temp-sense-gen/test.json --outputDir {OPENFASOC}/openfasoc/generators/temp-sense-gen/work --platform sky130hd --mode macro"
   ]
  }
 ],
 "metadata": {
  "colab": {
   "collapsed_sections": [],
   "provenance": []
  },
  "kernelspec": {
   "display_name": "Python 3",
   "name": "python3"
  },
  "language_info": {
   "name": "python"
  }
 },
 "nbformat": 4,
 "nbformat_minor": 0
}
