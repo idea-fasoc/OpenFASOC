{
 "cells": [
  {
   "cell_type": "code",
   "execution_count": null,
   "metadata": {
    "id": "KXnsU6MyWZ1j"
   },
   "outputs": [],
   "source": []
  },
  {
   "cell_type": "markdown",
   "metadata": {
    "id": "o5-DyyuLZW0q"
   },
   "source": [
    "# **Tutorial** **Notebook** - *Deliverable 2*\n",
    "This notebook is a tutorial on- \\\\\n",
    "Deliverable 2: Example Notebook-I: \\\\\n",
    "(2.A) **Importing** and **Placement** of FETs and other macros/Pcells with relative coordinates + Placing (and connecting) Via_stack on the ports of the FETs + encircling them with padrings (+and probably printing and explaining port names) \\\\\n",
    "(2.B) **Routing** between those placed Vias with C_, L_, Straight_ and smart Routes and explaining the differences between these strategies, particularly with E/W/N/S angles (For Example, why C has to parallel but L has to be perpendicular) and *Placing and connecting PINs for future LVS runs + running successful DRCs*"
   ]
  },
  {
   "cell_type": "markdown",
   "metadata": {
    "id": "MTe7mB0vawUk"
   },
   "source": [
    "## **Target** **Block**\n",
    "### **Flipped Voltage Follwer Cell**\n",
    "The Flipped Voltage Follower (FVF) is a widely used analog building block known for its low output impedance, fast transient response, and ability to deliver large output current while maintaining voltage buffering properties. It is commonly employed in analog circuit design, particularly in output stages, gain boosting, common-mode feedback circuits, and super class-AB OTAs. \\\\\n",
    "![Flipped-voltage-follower-It-consists-of-shunt-feedback-which-results-in-effective-output.png](data:image/png;base64,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)"
   ]
  },
  {
   "cell_type": "markdown",
   "metadata": {
    "id": "YeXs8rCYboFF"
   },
   "source": [
    "## **Step-by-step guide for layout generation**\n",
    "### **Setting up the environment**"
   ]
  },
  {
   "cell_type": "markdown",
   "metadata": {
    "id": "8DhSwHbRged9"
   },
   "source": [
    "## **Layout generation**\n",
    "Now that environment is set, let's go through the step by step procedure to generate LVS and DRC clean layout of a FVF cell.\n"
   ]
  },
  {
   "cell_type": "code",
   "execution_count": 1,
   "metadata": {
    "id": "cVQ1tvuDlpHY"
   },
   "outputs": [],
   "source": [
    "from glayout.flow.pdk.mappedpdk import MappedPDK\n",
    "from glayout.flow.pdk.sky130_mapped import sky130_mapped_pdk as sky130\n",
    "from glayout.flow.pdk.gf180_mapped  import gf180_mapped_pdk  as gf180\n",
    "from gdsfactory.cell import cell\n",
    "from gdsfactory.component import Component\n",
    "from gdsfactory import Component\n",
    "from glayout.flow.primitives.fet import nmos, pmos, multiplier\n",
    "from glayout.flow.pdk.util.comp_utils import evaluate_bbox, prec_center, prec_ref_center, align_comp_to_port\n",
    "from glayout.flow.pdk.util.snap_to_grid import component_snap_to_grid\n",
    "from glayout.flow.pdk.util.port_utils import rename_ports_by_orientation\n",
    "from glayout.flow.routing.straight_route import straight_route\n",
    "from glayout.flow.routing.c_route import c_route\n",
    "from glayout.flow.routing.L_route import L_route\n",
    "from glayout.flow.primitives.guardring import tapring\n",
    "from glayout.flow.pdk.util.port_utils import add_ports_perimeter\n",
    "from glayout.flow.spice.netlist import Netlist\n",
    "from glayout.flow.primitives.via_gen import via_stack\n",
    "from gdsfactory.components import text_freetype, rectangle"
   ]
  },
  {
   "cell_type": "markdown",
   "metadata": {
    "id": "48098fczyWqC"
   },
   "source": [
    "FVF has two fets as shown in the schematic. We call M1 as input fet and M2 as feedback fet.\n",
    "\n",
    "Let's create a list for which parameters we need for our function-\n",
    "\n",
    "* pdk: pdk to use\n",
    "* device_type: either \"nmos\" or \"pmos\"\n",
    "* placement: either \"horizontal\" or \"vertical\"\n",
    "* width: (input fet, feedback fet)\n",
    "* length: (input fet, feedback fet)\n",
    "* fingers: (input fet, feedback fet)\n",
    "* multipliers: (input fet, feedback fet)\n",
    "* dummy_1: dummy for input fet\n",
    "* dummy_2: dummy for feedback fet\n",
    "* tie_layers1: tie layers for input fet\n",
    "* tie_layers2: tie layers for feedback fet\n",
    "* sd_rmult: sd_rmult for both fets\n"
   ]
  },
  {
   "cell_type": "code",
   "execution_count": 2,
   "metadata": {
    "id": "Qn6rbVznGbyN"
   },
   "outputs": [],
   "source": [
    "nmos_kwargs = {\n",
    "    \"with_tie\": True,\n",
    "    \"with_dnwell\": True,\n",
    "    \"sd_route_topmet\": \"met2\",\n",
    "    \"gate_route_topmet\": \"met2\",\n",
    "    \"sd_route_left\": True,\n",
    "    \"rmult\": None,\n",
    "    \"gate_rmult\": 1,\n",
    "    \"interfinger_rmult\": 1,\n",
    "    \"substrate_tap_layers\": (\"met2\",\"met1\"),\n",
    "    \"dummy_routes\": True\n",
    "}\n",
    "\n",
    "pmos_kwargs = {\n",
    "    \"with_tie\": True,\n",
    "    \"dnwell\": False,\n",
    "    \"sd_route_topmet\": \"met2\",\n",
    "    \"gate_route_topmet\": \"met2\",\n",
    "    \"sd_route_left\": True,\n",
    "    \"rmult\": None,\n",
    "    \"gate_rmult\": 1,\n",
    "    \"interfinger_rmult\": 1,\n",
    "    \"substrate_tap_layers\": (\"met2\",\"met1\"),\n",
    "    \"dummy_routes\": True\n",
    "}\n",
    "\n",
    "\"\"\"\n",
    "There is no need to manually define the kwargs for your code. This is only done for this notebook implementation.\n",
    "\"\"\"\n",
    "\n",
    "flipped_voltage_follower_config={\n",
    "        \"pdk\": sky130, # pdk to use\n",
    "        \"device_type\": \"nmos\", # either nmos or pmos\n",
    "        \"placement\" : \"horizontal\", # the two fets can be placed either vertically or horizontally\n",
    "        \"width\": (3,3), # width of the input fet and feedback fet respectively.\n",
    "        \"length\": (None,None), # length of the input fet and feedback fet respectively. None refers to the min length in the pdk.\n",
    "        \"fingers\": (1,1), # no. of fingers of the input fet and feedback fet respectively.\n",
    "        \"multipliers\": (1,1), #no. of multipliers of the input fet and feedback fet respectively.\n",
    "        \"dummy_1\": (True,True), # dummy pattern for input fet (left,right)\n",
    "        \"dummy_2\": (True,True), # dummy pattern for the feedback fet (left,right)\n",
    "        \"tie_layers1\": (\"met2\",\"met1\"), #tapring metal layers for input fet\n",
    "        \"tie_layers2\": (\"met2\",\"met1\"), #tapring metal layers for feedback fet\n",
    "        \"sd_rmult\":1, # thickness of the sd metal layer.\n",
    "}"
   ]
  },
  {
   "cell_type": "code",
   "execution_count": 3,
   "metadata": {
    "id": "YqgO2VirHxAa"
   },
   "outputs": [],
   "source": [
    "#cretaes a top level component\n",
    "top_level = Component(name=\"flipped_voltage_follower\")\n"
   ]
  },
  {
   "cell_type": "code",
   "execution_count": 4,
   "metadata": {
    "id": "2hCwjbcgH2kh"
   },
   "outputs": [],
   "source": [
    "#two fets\n",
    "\"\"\"\n",
    "For our fvf block, we do not want deep nwell. However nmos and pmos primitives have different parameter name for deepnwell.\n",
    "For pmos it is set to false by default.We need to set it to false if the device type is given as nmos.\n",
    "We could've just set it properly in our nmos_kwargs, \n",
    "but since you will probably not code the layout for a notebook, we show a general way of solving this issue.\n",
    "\"\"\"\n",
    "device_type = flipped_voltage_follower_config[\"device_type\"]\n",
    "device_map = {\n",
    "        \"nmos\": nmos,\n",
    "        \"pmos\":pmos,\n",
    "        }\n",
    "device = device_map.get(device_type)\n",
    "if device_type == \"nmos\":\n",
    "      nmos_kwargs[\"with_dnwell\"] = False"
   ]
  },
  {
   "cell_type": "code",
   "execution_count": 5,
   "metadata": {
    "colab": {
     "base_uri": "https://localhost:8080/",
     "height": 391
    },
    "id": "CXx5k_7bIePR",
    "outputId": "7a6246bb-05be-40dd-d55e-104779256ba2"
   },
   "outputs": [
    {
     "name": "stderr",
     "output_type": "stream",
     "text": [
      "\u001b[32m2025-05-30 05:06:29.425\u001b[0m | \u001b[1mINFO    \u001b[0m | \u001b[36mgdsfactory.pdk\u001b[0m:\u001b[36mactivate\u001b[0m:\u001b[36m337\u001b[0m - \u001b[1m'sky130' PDK is now active\u001b[0m\n"
     ]
    }
   ],
   "source": [
    "pdk=flipped_voltage_follower_config[\"pdk\"]\n",
    "width=flipped_voltage_follower_config[\"width\"]\n",
    "length=flipped_voltage_follower_config[\"length\"]\n",
    "fingers=flipped_voltage_follower_config[\"fingers\"]\n",
    "multipliers=flipped_voltage_follower_config[\"multipliers\"]\n",
    "dummy_1=flipped_voltage_follower_config[\"dummy_1\"]\n",
    "dummy_2=flipped_voltage_follower_config[\"dummy_2\"]\n",
    "tie_layers1=flipped_voltage_follower_config[\"tie_layers1\"]\n",
    "tie_layers2=flipped_voltage_follower_config[\"tie_layers2\"]\n",
    "sd_rmult=flipped_voltage_follower_config[\"sd_rmult\"]\n",
    "\n",
    "#fet_1 is the input fet\n",
    "fet_1 = device(pdk, width=width[0], fingers=fingers[0], multipliers=multipliers[0], with_dummy=dummy_1, with_substrate_tap=False, length=length[0], tie_layers=tie_layers1, sd_rmult=sd_rmult, **(nmos_kwargs if device_type == \"nmos\" else pmos_kwargs))\n",
    "#fet_2 is the feedback fet\n",
    "fet_2 = device(pdk, width=width[1], fingers=fingers[1], multipliers=multipliers[1], with_dummy=dummy_2, with_substrate_tap=False, length=length[1], tie_layers=tie_layers2, sd_rmult=sd_rmult, **(nmos_kwargs if device_type == \"nmos\" else pmos_kwargs))\n",
    "well = \"pwell\" if device == nmos else \"nwell\"\n"
   ]
  },
  {
   "cell_type": "code",
   "execution_count": 6,
   "metadata": {
    "colab": {
     "base_uri": "https://localhost:8080/",
     "height": 211
    },
    "id": "-z4dus4JJLTA",
    "outputId": "620a920e-c684-46e3-f732-680ec8559b6e"
   },
   "outputs": [
    {
     "name": "stderr",
     "output_type": "stream",
     "text": [
      "/tmp/ipykernel_1726/1193818337.py:5: UserWarning: Unnamed cells, 2 in 'flipped_voltage_follower'\n",
      "  primary_gds = top_level.write_gds(\"before_placement.gds\")\n",
      "\u001b[32m2025-05-30 05:06:38.258\u001b[0m | \u001b[1mINFO    \u001b[0m | \u001b[36mgdsfactory.component\u001b[0m:\u001b[36m_write_library\u001b[0m:\u001b[36m1851\u001b[0m - \u001b[1mWrote to 'before_placement.gds'\u001b[0m\n"
     ]
    },
    {
     "name": "stdout",
     "output_type": "stream",
     "text": [
      "MESA: error: Failed to query drm device.\n",
      "libGL error: glx: failed to create dri3 screen\n",
      "libGL error: failed to load driver: iris\n",
      "libGL error: failed to open /dev/dri/card1: No such file or directory\n",
      "libGL error: failed to load driver: iris\n",
      "klive 0.3.2 is running\n"
     ]
    }
   ],
   "source": [
    "fet_1_ref = top_level << fet_1\n",
    "fet_2_ref = top_level << fet_2\n",
    "\n",
    "#let's take a look at our current state of layout\n",
    "primary_gds = top_level.write_gds(\"before_placement.gds\")\n",
    "!klayout before_placement.gds "
   ]
  },
  {
   "cell_type": "code",
   "execution_count": 7,
   "metadata": {
    "colab": {
     "base_uri": "https://localhost:8080/",
     "height": 211
    },
    "id": "-z4dus4JJLTA",
    "outputId": "620a920e-c684-46e3-f732-680ec8559b6e"
   },
   "outputs": [
    {
     "name": "stderr",
     "output_type": "stream",
     "text": [
      "/tmp/ipykernel_1726/2049486975.py:32: UserWarning: Unnamed cells, 2 in 'flipped_voltage_follower'\n",
      "  placement_gds = top_level.write_gds(\"after_placement.gds\")\n",
      "\u001b[32m2025-05-30 05:08:45.460\u001b[0m | \u001b[1mINFO    \u001b[0m | \u001b[36mgdsfactory.component\u001b[0m:\u001b[36m_write_library\u001b[0m:\u001b[36m1851\u001b[0m - \u001b[1mWrote to 'after_placement.gds'\u001b[0m\n"
     ]
    },
    {
     "name": "stdout",
     "output_type": "stream",
     "text": [
      "MESA: error: Failed to query drm device.\n",
      "libGL error: glx: failed to create dri3 screen\n",
      "libGL error: failed to load driver: iris\n",
      "libGL error: failed to open /dev/dri/card1: No such file or directory\n",
      "libGL error: failed to load driver: iris\n",
      "klive 0.3.2 is running\n"
     ]
    }
   ],
   "source": [
    "#Placement\n",
    "\"\"\"\n",
    "When a cell is referenced to the top level, the center of the cell is aligned to the (0,0) co-ordinate.\n",
    "As of now, both of our fets are centered at (0,0). We need place them properly depending on the placement parameter.\n",
    "\"\"\"\n",
    "placement=flipped_voltage_follower_config[\"placement\"]\n",
    "\n",
    "ref_dimensions = evaluate_bbox(fet_2)\n",
    "\"\"\"\n",
    "evaluate_bbox returns maximum width and maximum height of the block as a tuple(width,height).\n",
    "So here we have ref_dimensions=(x-dimension of fet_2, y-dimension of fet_2)\n",
    "\"\"\"\n",
    "\n",
    "\"\"\"\n",
    "For horizontal placement , we need to move the fet_2 in rightward direction.\n",
    "We use the movex function, which moves the center of the block in x-directon upto a certain distance. We need to find out this distance.\n",
    "Remember that both fet_1 and fet_2 are centered at (0,0) co-ordinate right now.\n",
    "At first we move the center of fet_2 to rightmost point of fet_1 using the xmax function, i.e, (fet_1_ref.xmax,0).\n",
    "Now we will find that left half of fet_2 is overlapping with fet_1, so we need to move it at rightward direction again.We move it by ref_dimensionsp[0]/2 distance.\n",
    "Now we see that the rightmost point of fet_1 and leftmost point of fet_2 have no seperation between them.\n",
    "This will cause a drc error. So we move it again by max seperation needed between two metal layers for drc free layout.\n",
    "We move it by 1um again for leaving some routing space for future use.\n",
    "\n",
    "Vertical placement can be done in similar way by using movey function.\n",
    "\"\"\"\n",
    "if placement == \"horizontal\":\n",
    "    fet_2_ref.movex(fet_1_ref.xmax + ref_dimensions[0]/2 + pdk.util_max_metal_seperation()+1)\n",
    "if placement == \"vertical\":\n",
    "    fet_2_ref.movey(fet_1_ref.ymin - ref_dimensions[1]/2 - pdk.util_max_metal_seperation()-1)\n",
    "\n",
    "# let's see how our block looks after placement \n",
    "placement_gds = top_level.write_gds(\"after_placement.gds\")\n",
    "!klayout after_placement.gds"
   ]
  },
  {
   "cell_type": "code",
   "execution_count": 8,
   "metadata": {
    "colab": {
     "base_uri": "https://localhost:8080/",
     "height": 445
    },
    "id": "kBaPQO1C0LEs",
    "outputId": "644b2636-6bdc-471b-b006-0c0490bcda43"
   },
   "outputs": [
    {
     "name": "stderr",
     "output_type": "stream",
     "text": [
      "/tmp/ipykernel_1726/451631979.py:24: UserWarning: Unnamed cells, 2 in 'flipped_voltage_follower'\n",
      "  viaplacement_gds = top_level.write_gds(\"via_placement.gds\")\n",
      "\u001b[32m2025-05-30 05:09:08.841\u001b[0m | \u001b[1mINFO    \u001b[0m | \u001b[36mgdsfactory.component\u001b[0m:\u001b[36m_write_library\u001b[0m:\u001b[36m1851\u001b[0m - \u001b[1mWrote to 'via_placement.gds'\u001b[0m\n"
     ]
    },
    {
     "name": "stdout",
     "output_type": "stream",
     "text": [
      "MESA: error: Failed to query drm device.\n",
      "libGL error: glx: failed to create dri3 screen\n",
      "libGL error: failed to load driver: iris\n",
      "libGL error: failed to open /dev/dri/card1: No such file or directory\n",
      "libGL error: failed to load driver: iris\n",
      "klive 0.3.2 is running\n"
     ]
    }
   ],
   "source": [
    "    #Routing\n",
    "    \"\"\"\n",
    "    Now that our fets are properly placed, we need to make proper connections between ports.\n",
    "    Each port has four directions- E,N,W,S which means 0,90,180,270 degrees respectively.\n",
    "    You can connect directly to a fet port. For better felxibility in routing, we choose add some intermediate vias here.\n",
    "    \"\"\"\n",
    "    viam2m3 = via_stack(pdk, \"met2\", \"met3\", centered=True) #met2 is the bottom layer. met3 is the top layer.\n",
    "    #we need four such vias\n",
    "    drain_1_via = top_level << viam2m3\n",
    "    source_1_via = top_level << viam2m3\n",
    "    drain_2_via = top_level << viam2m3\n",
    "    gate_2_via = top_level << viam2m3\n",
    "    \"\"\"\n",
    "    The move function moves the center of a specific cell to a specific co-ordinate.\n",
    "    The co-ordinates of the center of a port can be accesed by using cell_name.ports[\"port_name\"].center\n",
    "    Using these two and other techniques previously discussed, we properly place these 4 vias.\n",
    "    \"\"\"\n",
    "    drain_1_via.move(fet_1_ref.ports[\"multiplier_0_drain_W\"].center).movex(-0.5*evaluate_bbox(fet_1)[1])\n",
    "    source_1_via.move(fet_1_ref.ports[\"multiplier_0_source_E\"].center).movex(1.5)\n",
    "    drain_2_via.move(fet_2_ref.ports[\"multiplier_0_drain_W\"].center).movex(-1.5)\n",
    "    gate_2_via.move(fet_2_ref.ports[\"multiplier_0_gate_E\"].center).movex(1)\n",
    "\n",
    "    # let's see where those vias are now\n",
    "    viaplacement_gds = top_level.write_gds(\"via_placement.gds\")\n",
    "    !klayout via_placement.gds\n",
    "    \"\"\"\n",
    "    Now that the vias are placed, time to make metal routing.\n",
    "    There are three basic types of routing available:-\n",
    "      1. straight_route - the ports must be straight to each other, i.e, opposite direction and same x or y coordinate.\n",
    "      2. L_route - has a 90degree bend, ports must be perpendicular to each other.\n",
    "      3. c_route -  has two 90 degree bends(c shaped), ports must have same direction.\n",
    "    Each routing function has multiple parameters. [https://github.com/idea-fasoc/OpenFASOC/tree/main/openfasoc/generators/glayout/glayout/flow/routing]\n",
    "    \"\"\"\n",
    "    \"\"\"\n",
    "    From the schematic, we see that we need to connect these two nodes-\n",
    "      1. Source of M1 and Drain of M2, we insert two intermediate vias near each of them and connect them.\n",
    "      2. Gate of M2 and Drain of M1, we insert two intermediate vias near each of them and connect them.\n",
    "    \"\"\"\n",
    "    top_level << straight_route(pdk, fet_1_ref.ports[\"multiplier_0_source_E\"], source_1_via.ports[\"bottom_met_W\"])\n",
    "    top_level << straight_route(pdk, fet_2_ref.ports[\"multiplier_0_drain_W\"], drain_2_via.ports[\"bottom_met_E\"])\n",
    "    top_level << c_route(pdk, source_1_via.ports[\"top_met_N\"], drain_2_via.ports[\"top_met_N\"], extension=1.2*max(width[0],width[1]), width1=0.32, width2=0.32, cwidth=0.32, e1glayer=\"met3\", e2glayer=\"met3\", cglayer=\"met2\")\n",
    "    top_level << straight_route(pdk, fet_1_ref.ports[\"multiplier_0_drain_W\"], drain_1_via.ports[\"bottom_met_E\"])\n",
    "    top_level << c_route(pdk, drain_1_via.ports[\"top_met_S\"], gate_2_via.ports[\"top_met_S\"], extension=1.2*max(width[0],width[1]), cglayer=\"met2\")\n",
    "    top_level << straight_route(pdk, fet_2_ref.ports[\"multiplier_0_gate_E\"], gate_2_via.ports[\"bottom_met_W\"])\n",
    "    try:\n",
    "\t    top_level << straight_route(pdk, fet_2_ref.ports[\"multiplier_0_source_W\"], fet_2_ref.ports[\"tie_W_top_met_W\"], glayer1=tie_layers2[1], width=0.2*sd_rmult, fullbottom=True)\n",
    "    except:\n",
    "\t    pass\n",
    "    \"\"\"\n",
    "    Notice how in the above lines, ports used in straight routing has the opposite direction, e.g. (E,W) but ports used in c_route has the same direction (N,N).\n",
    "    \"\"\"\n",
    "    #Renaming Ports\n",
    "    \"\"\"\n",
    "    We need to rename ports and add them to the top level component for ease of routing in hierarchial design.\n",
    "    Here we rename ports by adding appropriate prefix to the all ready existing port names.\n",
    "    \"\"\"\n",
    "    top_level.add_ports(fet_1_ref.get_ports_list(), prefix=\"A_\")\n",
    "    top_level.add_ports(fet_2_ref.get_ports_list(), prefix=\"B_\")\n",
    "    top_level.add_ports(drain_1_via.get_ports_list(), prefix=\"A_drain_\")\n",
    "    top_level.add_ports(source_1_via.get_ports_list(), prefix=\"A_source_\")\n",
    "    top_level.add_ports(drain_2_via.get_ports_list(), prefix=\"B_drain_\")\n",
    "    top_level.add_ports(gate_2_via.get_ports_list(), prefix=\"B_gate_\")\n",
    "    #add nwell\n",
    "    \"\"\"\n",
    "    for pmos device type, we need to add nwell.\n",
    "    However we do not need to add pwell for nmos device type as magic does not seperately extract the pwell layer.\n",
    "    \"\"\"\n",
    "    if well == \"nwell\":\n",
    "        top_level.add_padding(layers=(pdk.get_glayer(\"nwell\"),),default= 1 )\n",
    "\n",
    "    component = component_snap_to_grid(rename_ports_by_orientation(top_level))\n",
    "\n",
    "    #component.info['netlist'] = fvf_netlist(fet_1, fet_2)\n",
    "    "
   ]
  },
  {
   "cell_type": "code",
   "execution_count": 9,
   "metadata": {
    "colab": {
     "base_uri": "https://localhost:8080/",
     "height": 445
    },
    "id": "kBaPQO1C0LEs",
    "outputId": "644b2636-6bdc-471b-b006-0c0490bcda43"
   },
   "outputs": [
    {
     "name": "stderr",
     "output_type": "stream",
     "text": [
      "\u001b[32m2025-05-30 05:10:09.481\u001b[0m | \u001b[1mINFO    \u001b[0m | \u001b[36mgdsfactory.component\u001b[0m:\u001b[36m_write_library\u001b[0m:\u001b[36m1851\u001b[0m - \u001b[1mWrote to 'fvf.gds'\u001b[0m\n"
     ]
    },
    {
     "name": "stdout",
     "output_type": "stream",
     "text": [
      "MESA: error: Failed to query drm device.\n",
      "libGL error: glx: failed to create dri3 screen\n",
      "libGL error: failed to load driver: iris\n",
      "libGL error: failed to open /dev/dri/card1: No such file or directory\n",
      "libGL error: failed to load driver: iris\n",
      "klive 0.3.2 is running\n"
     ]
    }
   ],
   "source": [
    "# Now that our block is complete, let's see how it looks now!!\n",
    "fvf_gds = component.write_gds(\"fvf.gds\")\n",
    "!klayout fvf.gds"
   ]
  },
  {
   "cell_type": "code",
   "execution_count": 2,
   "metadata": {},
   "outputs": [],
   "source": [
    "#Note\n",
    "#The original code can be found here -https://github.com/idea-fasoc/OpenFASOC/blob/main/openfasoc/generators/glayout/glayout/flow/blocks/elementary/FVF/fvf.py\n"
   ]
  },
  {
   "cell_type": "code",
   "execution_count": null,
   "metadata": {},
   "outputs": [],
   "source": []
  }
 ],
 "metadata": {
  "colab": {
   "provenance": []
  },
  "kernelspec": {
   "display_name": "Python 3 (ipykernel)",
   "language": "python",
   "name": "python3"
  },
  "language_info": {
   "codemirror_mode": {
    "name": "ipython",
    "version": 3
   },
   "file_extension": ".py",
   "mimetype": "text/x-python",
   "name": "python",
   "nbconvert_exporter": "python",
   "pygments_lexer": "ipython3",
   "version": "3.10.13"
  }
 },
 "nbformat": 4,
 "nbformat_minor": 4
}
