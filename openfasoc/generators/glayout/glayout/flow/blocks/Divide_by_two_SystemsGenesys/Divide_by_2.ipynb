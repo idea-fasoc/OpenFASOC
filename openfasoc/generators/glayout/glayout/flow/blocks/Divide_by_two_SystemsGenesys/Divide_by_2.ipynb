{
 "cells": [
  {
   "cell_type": "markdown",
   "metadata": {},
   "source": [
    "Divide by two circuit \n",
    "=========AUTHORS===========\n",
    "Dr. Kalenteridis Vasileios \n",
    "Batzolis Eleftherios"
   ]
  },
  {
   "cell_type": "markdown",
   "metadata": {
    "id": "A5eacEPxidt-"
   },
   "source": [
    "Python Code Overview\n",
    "The Python code in this Jupyter notebook builds and places components in the divide-by-2 circuit using the sky130 PDK and gdsfactory layout library.\n",
    "\n",
    "create_nmos_latch Function: Defines a single NMOS-based latch with eight NMOS transistors. Transistors are arranged in the current mirror, transmission gate, and cross-coupled inverter configurations. The function:\n",
    "\n",
    "Creates NMOS transistors with specific widths and lengths.\n",
    "Positions and connects these transistors using both straight and C-routes for proper wiring.\n",
    "Adds ports for input (D, Dp), clock (CLK, CLKN), output (Q, Qp), and power (VDD, VSS).\n",
    "create_divide_by_two_circuit Function: Builds the entire divide-by-2 circuit by instantiating two NMOS latches.\n",
    "\n",
    "Places the second latch below the first latch with adequate separation.\n",
    "Connects the output of the first latch to the input of the second and vice versa (feedback).\n",
    "Adds ports for the clock (CLK, CLKN), output (OUT, OUT_B), and power (VDD, VSS).\n",
    "Connects power ports of both latches to ensure consistent power distribution.\n",
    "Circuit Display and GDS Export:\n",
    "\n",
    "After creating the divide-by-two component, display_component shows a scaled view of the component.\n",
    "The component is written to a GDS file, divide_two.gds, for further physical verification and layout."
   ]
  },
  {
   "cell_type": "code",
   "execution_count": null,
   "metadata": {
    "id": "z1O_2qcOtc4u"
   },
   "outputs": [],
   "source": [
    "# Setup the environment for the OpenFASOC GDSFactory generator\n",
    "# You only need to run this block once!\n",
    "\n",
    "# Clone OpenFASoC\n",
    "\n",
    "!git clone https://github.com/idea-fasoc/OpenFASOC\n",
    "#used for testing \n",
    "#!git clone https://github.com/Lefteris-B/OpenFASOC\n",
    "\n",
    "# Install python dependencies\n",
    "!pip install sky130\n",
    "!pip install gf180 prettyprinttree svgutils\n",
    "!pip install gdsfactory==7.7.0\n",
    "\n",
    "import pathlib\n",
    "import os\n",
    "\n",
    "# Install KLayout (via conda)\n",
    "!curl -Ls https://micro.mamba.pm/api/micromamba/linux-64/latest | tar -xvj bin/micromamba\n",
    "conda_prefix_path = pathlib.Path('conda-env')\n",
    "CONDA_PREFIX = str(conda_prefix_path.resolve())\n",
    "%env CONDA_PREFIX={CONDA_PREFIX}\n",
    "\n",
    "!bin/micromamba create --yes --prefix $CONDA_PREFIX\n",
    "\n",
    "# Install from the litex-hub channel\n",
    "!bin/micromamba install --yes --prefix $CONDA_PREFIX \\\n",
    "                        --channel litex-hub \\\n",
    "                        --channel main \\\n",
    "                        klayout"
   ]
  },
  {
   "cell_type": "code",
   "execution_count": null,
   "metadata": {
    "id": "Q42D2FwTtnep"
   },
   "outputs": [],
   "source": [
    "# Setup the environment for the OpenFASOC GDSFactory generator\n",
    "\n",
    "# Adding micro-mamba binary directory to the PATH\n",
    "# This directory contains Klayout\n",
    "import pathlib\n",
    "import os\n",
    "conda_prefix_path = pathlib.Path('conda-env')\n",
    "CONDA_PREFIX = str(conda_prefix_path.resolve())\n",
    "%env CONDA_PREFIX={CONDA_PREFIX}\n",
    "# Add conda packages to the PATH\n",
    "PATH = os.environ['PATH']\n",
    "%env PATH={PATH}:{CONDA_PREFIX}/bin\n",
    "\n",
    "%cd /content/OpenFASOC/openfasoc/generators/glayout"
   ]
  },
  {
   "cell_type": "code",
   "execution_count": null,
   "metadata": {
    "id": "QBLvF3RmWLDs"
   },
   "outputs": [],
   "source": [
    "# Intall glayout\n",
    "%cd /content/OpenFASOC/openfasoc/generators/glayout\n",
    "!pip install -e ."
   ]
  },
  {
   "cell_type": "code",
   "execution_count": null,
   "metadata": {
    "id": "7PzrVo7iW1Jf"
   },
   "outputs": [],
   "source": [
    "# Confirm Instalation\n",
    "!pip show glayout"
   ]
  },
  {
   "cell_type": "code",
   "execution_count": 5,
   "metadata": {
    "id": "QoIgABmKWS6h"
   },
   "outputs": [],
   "source": [
    "import glayout"
   ]
  },
  {
   "cell_type": "code",
   "execution_count": null,
   "metadata": {
    "colab": {
     "base_uri": "https://localhost:8080/",
     "height": 34
    },
    "id": "WyTs66GIwOdh",
    "outputId": "60be3b67-fa27-45b6-b8c7-64aced026d9a"
   },
   "outputs": [],
   "source": [
    "%cd /content/OpenFASOC/openfasoc/generators/glayout/glayout/flow/blocks/Divide_by_two_SystemsGenesys\n",
    "from latch_design import create_nmos_latch_layout\n",
    "from divide_by_two import create_divide_by_two_circuit\n",
    "from glayout.flow.pdk.sky130_mapped import sky130_mapped_pdk as sky130\n",
    "import gdstk\n",
    "import svgutils.transform as sg\n",
    "import IPython.display\n",
    "from IPython.display import clear_output\n",
    "import ipywidgets as widgets\n",
    "\n",
    "# Redirect all outputs here\n",
    "hide = widgets.Output()\n",
    "\n",
    "def display_gds(gds_file, scale = 3):\n",
    "  # Generate an SVG image\n",
    "  top_level_cell = gdstk.read_gds(gds_file).top_level()[0]\n",
    "  top_level_cell.write_svg('out.svg')\n",
    "  # Scale the image for displaying\n",
    "  fig = sg.fromfile('out.svg')\n",
    "  fig.set_size((str(float(fig.width) * scale), str(float(fig.height) * scale)))\n",
    "  fig.save('out.svg')\n",
    "\n",
    "  # Display the image\n",
    "  IPython.display.display(IPython.display.SVG('out.svg'))\n",
    "\n",
    "def display_component(component, scale = 3):\n",
    "  # Save to a GDS file\n",
    "  with hide:\n",
    "    component.write_gds(\"out.gds\")\n",
    "  display_gds('out.gds', scale)\n"
   ]
  },
  {
   "cell_type": "code",
   "execution_count": null,
   "metadata": {
    "id": "4f71z53aiduD"
   },
   "outputs": [],
   "source": [
    "# Create and display the designs\n",
    "latch = create_nmos_latch_layout(sky130)\n",
    "display_component(latch, scale=3)\n",
    "\n",
    "divider = create_divide_by_two_circuit(sky130)\n",
    "display_component(divider, scale=3)\n",
    "\n",
    "# Save GDS files\n",
    "latch.write_gds(\"latch.gds\")\n",
    "divider.write_gds(\"divide_two.gds\")"
   ]
  }
 ],
 "metadata": {
  "colab": {
   "provenance": []
  },
  "kernelspec": {
   "display_name": "Python 3",
   "name": "python3"
  },
  "language_info": {
   "name": "python"
  }
 },
 "nbformat": 4,
 "nbformat_minor": 0
}
